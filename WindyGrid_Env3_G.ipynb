{
 "cells": [
  {
   "cell_type": "code",
   "execution_count": 14,
   "metadata": {
    "scrolled": false
   },
   "outputs": [],
   "source": [
    "# https://stable-baselines3.readthedocs.io/en/master/guide/rl.html\n",
    "# https://spinningup.openai.com/en/latest/spinningup/rl_intro2.html#a-taxonomy-of-rl-algorithms"
   ]
  },
  {
   "cell_type": "markdown",
   "metadata": {},
   "source": [
    "# 1. Import dependencies"
   ]
  },
  {
   "cell_type": "code",
   "execution_count": 15,
   "metadata": {
    "scrolled": false
   },
   "outputs": [
    {
     "data": {
      "text/plain": [
       "True"
      ]
     },
     "execution_count": 15,
     "metadata": {},
     "output_type": "execute_result"
    }
   ],
   "source": [
    "import torch as torch\n",
    "torch._C._cuda_getDeviceCount() > 0"
   ]
  },
  {
   "cell_type": "code",
   "execution_count": 16,
   "metadata": {
    "scrolled": false
   },
   "outputs": [],
   "source": [
    "import os\n",
    "import gym \n",
    "from stable_baselines3 import DQN\n",
    "from stable_baselines3.common.vec_env import DummyVecEnv\n",
    "from stable_baselines3.common.evaluation import evaluate_policy"
   ]
  },
  {
   "cell_type": "markdown",
   "metadata": {},
   "source": [
    "# 2. Load and Test Environment"
   ]
  },
  {
   "cell_type": "code",
   "execution_count": 17,
   "metadata": {
    "scrolled": false
   },
   "outputs": [],
   "source": [
    "\n",
    "rewards = [[2,0,10],[1,0,0]]"
   ]
  },
  {
   "cell_type": "code",
   "execution_count": 18,
   "metadata": {
    "scrolled": false
   },
   "outputs": [],
   "source": [
    "#env = gym.make(environment_name)\n",
    "from GridEnv import WindyGridworld\n",
    "env = WindyGridworld(\n",
    "        height=20,\n",
    "        width=11,\n",
    "        rewards=rewards,\n",
    "        wind=True,\n",
    "        allowed_actions=['L', 'R', 'C'],\n",
    "        reward_terminates_episode=False\n",
    "    )"
   ]
  },
  {
   "cell_type": "code",
   "execution_count": 19,
   "metadata": {
    "scrolled": true
   },
   "outputs": [
    {
     "name": "stderr",
     "output_type": "stream",
     "text": [
      "QObject::moveToThread: Current thread (0x5638363134d0) is not the object's thread (0x563836740380).\n",
      "Cannot move to target thread (0x5638363134d0)\n",
      "\n",
      "QObject::moveToThread: Current thread (0x5638363134d0) is not the object's thread (0x563836740380).\n",
      "Cannot move to target thread (0x5638363134d0)\n",
      "\n",
      "QObject::moveToThread: Current thread (0x5638363134d0) is not the object's thread (0x563836740380).\n",
      "Cannot move to target thread (0x5638363134d0)\n",
      "\n",
      "QObject::moveToThread: Current thread (0x5638363134d0) is not the object's thread (0x563836740380).\n",
      "Cannot move to target thread (0x5638363134d0)\n",
      "\n",
      "QObject::moveToThread: Current thread (0x5638363134d0) is not the object's thread (0x563836740380).\n",
      "Cannot move to target thread (0x5638363134d0)\n",
      "\n",
      "QObject::moveToThread: Current thread (0x5638363134d0) is not the object's thread (0x563836740380).\n",
      "Cannot move to target thread (0x5638363134d0)\n",
      "\n",
      "QObject::moveToThread: Current thread (0x5638363134d0) is not the object's thread (0x563836740380).\n",
      "Cannot move to target thread (0x5638363134d0)\n",
      "\n",
      "QObject::moveToThread: Current thread (0x5638363134d0) is not the object's thread (0x563836740380).\n",
      "Cannot move to target thread (0x5638363134d0)\n",
      "\n",
      "QObject::moveToThread: Current thread (0x5638363134d0) is not the object's thread (0x563836740380).\n",
      "Cannot move to target thread (0x5638363134d0)\n",
      "\n",
      "QObject::moveToThread: Current thread (0x5638363134d0) is not the object's thread (0x563836740380).\n",
      "Cannot move to target thread (0x5638363134d0)\n",
      "\n",
      "QObject::moveToThread: Current thread (0x5638363134d0) is not the object's thread (0x563836740380).\n",
      "Cannot move to target thread (0x5638363134d0)\n",
      "\n",
      "QObject::moveToThread: Current thread (0x5638363134d0) is not the object's thread (0x563836740380).\n",
      "Cannot move to target thread (0x5638363134d0)\n",
      "\n",
      "QObject::moveToThread: Current thread (0x5638363134d0) is not the object's thread (0x563836740380).\n",
      "Cannot move to target thread (0x5638363134d0)\n",
      "\n",
      "QObject::moveToThread: Current thread (0x5638363134d0) is not the object's thread (0x563836740380).\n",
      "Cannot move to target thread (0x5638363134d0)\n",
      "\n",
      "QObject::moveToThread: Current thread (0x5638363134d0) is not the object's thread (0x563836740380).\n",
      "Cannot move to target thread (0x5638363134d0)\n",
      "\n",
      "QObject::moveToThread: Current thread (0x5638363134d0) is not the object's thread (0x563836740380).\n",
      "Cannot move to target thread (0x5638363134d0)\n",
      "\n",
      "QObject::moveToThread: Current thread (0x5638363134d0) is not the object's thread (0x563836740380).\n",
      "Cannot move to target thread (0x5638363134d0)\n",
      "\n",
      "QObject::moveToThread: Current thread (0x5638363134d0) is not the object's thread (0x563836740380).\n",
      "Cannot move to target thread (0x5638363134d0)\n",
      "\n",
      "QObject::moveToThread: Current thread (0x5638363134d0) is not the object's thread (0x563836740380).\n",
      "Cannot move to target thread (0x5638363134d0)\n",
      "\n",
      "QObject::moveToThread: Current thread (0x5638363134d0) is not the object's thread (0x563836740380).\n",
      "Cannot move to target thread (0x5638363134d0)\n",
      "\n",
      "QObject::moveToThread: Current thread (0x5638363134d0) is not the object's thread (0x563836740380).\n",
      "Cannot move to target thread (0x5638363134d0)\n",
      "\n",
      "QObject::moveToThread: Current thread (0x5638363134d0) is not the object's thread (0x563836740380).\n",
      "Cannot move to target thread (0x5638363134d0)\n",
      "\n",
      "QObject::moveToThread: Current thread (0x5638363134d0) is not the object's thread (0x563836740380).\n",
      "Cannot move to target thread (0x5638363134d0)\n",
      "\n",
      "QObject::moveToThread: Current thread (0x5638363134d0) is not the object's thread (0x563836740380).\n",
      "Cannot move to target thread (0x5638363134d0)\n",
      "\n",
      "QObject::moveToThread: Current thread (0x5638363134d0) is not the object's thread (0x563836740380).\n",
      "Cannot move to target thread (0x5638363134d0)\n",
      "\n",
      "QObject::moveToThread: Current thread (0x5638363134d0) is not the object's thread (0x563836740380).\n",
      "Cannot move to target thread (0x5638363134d0)\n",
      "\n",
      "QObject::moveToThread: Current thread (0x5638363134d0) is not the object's thread (0x563836740380).\n",
      "Cannot move to target thread (0x5638363134d0)\n",
      "\n",
      "QObject::moveToThread: Current thread (0x5638363134d0) is not the object's thread (0x563836740380).\n",
      "Cannot move to target thread (0x5638363134d0)\n",
      "\n",
      "QObject::moveToThread: Current thread (0x5638363134d0) is not the object's thread (0x563836740380).\n",
      "Cannot move to target thread (0x5638363134d0)\n",
      "\n",
      "QObject::moveToThread: Current thread (0x5638363134d0) is not the object's thread (0x563836740380).\n",
      "Cannot move to target thread (0x5638363134d0)\n",
      "\n",
      "QObject::moveToThread: Current thread (0x5638363134d0) is not the object's thread (0x563836740380).\n",
      "Cannot move to target thread (0x5638363134d0)\n",
      "\n",
      "QObject::moveToThread: Current thread (0x5638363134d0) is not the object's thread (0x563836740380).\n",
      "Cannot move to target thread (0x5638363134d0)\n",
      "\n",
      "QObject::moveToThread: Current thread (0x5638363134d0) is not the object's thread (0x563836740380).\n",
      "Cannot move to target thread (0x5638363134d0)\n",
      "\n",
      "QObject::moveToThread: Current thread (0x5638363134d0) is not the object's thread (0x563836740380).\n",
      "Cannot move to target thread (0x5638363134d0)\n",
      "\n",
      "QObject::moveToThread: Current thread (0x5638363134d0) is not the object's thread (0x563836740380).\n",
      "Cannot move to target thread (0x5638363134d0)\n",
      "\n",
      "QObject::moveToThread: Current thread (0x5638363134d0) is not the object's thread (0x563836740380).\n",
      "Cannot move to target thread (0x5638363134d0)\n",
      "\n",
      "QObject::moveToThread: Current thread (0x5638363134d0) is not the object's thread (0x563836740380).\n",
      "Cannot move to target thread (0x5638363134d0)\n",
      "\n",
      "QObject::moveToThread: Current thread (0x5638363134d0) is not the object's thread (0x563836740380).\n",
      "Cannot move to target thread (0x5638363134d0)\n",
      "\n",
      "QObject::moveToThread: Current thread (0x5638363134d0) is not the object's thread (0x563836740380).\n",
      "Cannot move to target thread (0x5638363134d0)\n",
      "\n",
      "QObject::moveToThread: Current thread (0x5638363134d0) is not the object's thread (0x563836740380).\n",
      "Cannot move to target thread (0x5638363134d0)\n",
      "\n",
      "QObject::moveToThread: Current thread (0x5638363134d0) is not the object's thread (0x563836740380).\n",
      "Cannot move to target thread (0x5638363134d0)\n",
      "\n",
      "QObject::moveToThread: Current thread (0x5638363134d0) is not the object's thread (0x563836740380).\n",
      "Cannot move to target thread (0x5638363134d0)\n",
      "\n",
      "QObject::moveToThread: Current thread (0x5638363134d0) is not the object's thread (0x563836740380).\n",
      "Cannot move to target thread (0x5638363134d0)\n",
      "\n",
      "QObject::moveToThread: Current thread (0x5638363134d0) is not the object's thread (0x563836740380).\n",
      "Cannot move to target thread (0x5638363134d0)\n",
      "\n",
      "QObject::moveToThread: Current thread (0x5638363134d0) is not the object's thread (0x563836740380).\n",
      "Cannot move to target thread (0x5638363134d0)\n",
      "\n",
      "QObject::moveToThread: Current thread (0x5638363134d0) is not the object's thread (0x563836740380).\n",
      "Cannot move to target thread (0x5638363134d0)\n",
      "\n",
      "QObject::moveToThread: Current thread (0x5638363134d0) is not the object's thread (0x563836740380).\n",
      "Cannot move to target thread (0x5638363134d0)\n",
      "\n",
      "QObject::moveToThread: Current thread (0x5638363134d0) is not the object's thread (0x563836740380).\n",
      "Cannot move to target thread (0x5638363134d0)\n",
      "\n",
      "QObject::moveToThread: Current thread (0x5638363134d0) is not the object's thread (0x563836740380).\n",
      "Cannot move to target thread (0x5638363134d0)\n",
      "\n",
      "QObject::moveToThread: Current thread (0x5638363134d0) is not the object's thread (0x563836740380).\n",
      "Cannot move to target thread (0x5638363134d0)\n",
      "\n",
      "QObject::moveToThread: Current thread (0x5638363134d0) is not the object's thread (0x563836740380).\n",
      "Cannot move to target thread (0x5638363134d0)\n",
      "\n",
      "QObject::moveToThread: Current thread (0x5638363134d0) is not the object's thread (0x563836740380).\n",
      "Cannot move to target thread (0x5638363134d0)\n",
      "\n",
      "QObject::moveToThread: Current thread (0x5638363134d0) is not the object's thread (0x563836740380).\n",
      "Cannot move to target thread (0x5638363134d0)\n",
      "\n",
      "QObject::moveToThread: Current thread (0x5638363134d0) is not the object's thread (0x563836740380).\n",
      "Cannot move to target thread (0x5638363134d0)\n",
      "\n",
      "QObject::moveToThread: Current thread (0x5638363134d0) is not the object's thread (0x563836740380).\n",
      "Cannot move to target thread (0x5638363134d0)\n",
      "\n",
      "QObject::moveToThread: Current thread (0x5638363134d0) is not the object's thread (0x563836740380).\n",
      "Cannot move to target thread (0x5638363134d0)\n",
      "\n",
      "QObject::moveToThread: Current thread (0x5638363134d0) is not the object's thread (0x563836740380).\n",
      "Cannot move to target thread (0x5638363134d0)\n",
      "\n",
      "QObject::moveToThread: Current thread (0x5638363134d0) is not the object's thread (0x563836740380).\n",
      "Cannot move to target thread (0x5638363134d0)\n",
      "\n",
      "QObject::moveToThread: Current thread (0x5638363134d0) is not the object's thread (0x563836740380).\n",
      "Cannot move to target thread (0x5638363134d0)\n",
      "\n",
      "QObject::moveToThread: Current thread (0x5638363134d0) is not the object's thread (0x563836740380).\n",
      "Cannot move to target thread (0x5638363134d0)\n",
      "\n",
      "QObject::moveToThread: Current thread (0x5638363134d0) is not the object's thread (0x563836740380).\n",
      "Cannot move to target thread (0x5638363134d0)\n",
      "\n",
      "QObject::moveToThread: Current thread (0x5638363134d0) is not the object's thread (0x563836740380).\n",
      "Cannot move to target thread (0x5638363134d0)\n",
      "\n",
      "QObject::moveToThread: Current thread (0x5638363134d0) is not the object's thread (0x563836740380).\n",
      "Cannot move to target thread (0x5638363134d0)\n",
      "\n",
      "QObject::moveToThread: Current thread (0x5638363134d0) is not the object's thread (0x563836740380).\n",
      "Cannot move to target thread (0x5638363134d0)\n",
      "\n",
      "QObject::moveToThread: Current thread (0x5638363134d0) is not the object's thread (0x563836740380).\n",
      "Cannot move to target thread (0x5638363134d0)\n",
      "\n",
      "QObject::moveToThread: Current thread (0x5638363134d0) is not the object's thread (0x563836740380).\n",
      "Cannot move to target thread (0x5638363134d0)\n",
      "\n",
      "QObject::moveToThread: Current thread (0x5638363134d0) is not the object's thread (0x563836740380).\n",
      "Cannot move to target thread (0x5638363134d0)\n",
      "\n",
      "QObject::moveToThread: Current thread (0x5638363134d0) is not the object's thread (0x563836740380).\n",
      "Cannot move to target thread (0x5638363134d0)\n",
      "\n",
      "QObject::moveToThread: Current thread (0x5638363134d0) is not the object's thread (0x563836740380).\n",
      "Cannot move to target thread (0x5638363134d0)\n",
      "\n",
      "QObject::moveToThread: Current thread (0x5638363134d0) is not the object's thread (0x563836740380).\n",
      "Cannot move to target thread (0x5638363134d0)\n",
      "\n",
      "QObject::moveToThread: Current thread (0x5638363134d0) is not the object's thread (0x563836740380).\n",
      "Cannot move to target thread (0x5638363134d0)\n",
      "\n",
      "QObject::moveToThread: Current thread (0x5638363134d0) is not the object's thread (0x563836740380).\n",
      "Cannot move to target thread (0x5638363134d0)\n",
      "\n",
      "QObject::moveToThread: Current thread (0x5638363134d0) is not the object's thread (0x563836740380).\n",
      "Cannot move to target thread (0x5638363134d0)\n",
      "\n",
      "QObject::moveToThread: Current thread (0x5638363134d0) is not the object's thread (0x563836740380).\n",
      "Cannot move to target thread (0x5638363134d0)\n",
      "\n",
      "QObject::moveToThread: Current thread (0x5638363134d0) is not the object's thread (0x563836740380).\n",
      "Cannot move to target thread (0x5638363134d0)\n",
      "\n",
      "QObject::moveToThread: Current thread (0x5638363134d0) is not the object's thread (0x563836740380).\n",
      "Cannot move to target thread (0x5638363134d0)\n",
      "\n",
      "QObject::moveToThread: Current thread (0x5638363134d0) is not the object's thread (0x563836740380).\n",
      "Cannot move to target thread (0x5638363134d0)\n",
      "\n",
      "QObject::moveToThread: Current thread (0x5638363134d0) is not the object's thread (0x563836740380).\n",
      "Cannot move to target thread (0x5638363134d0)\n",
      "\n",
      "QObject::moveToThread: Current thread (0x5638363134d0) is not the object's thread (0x563836740380).\n",
      "Cannot move to target thread (0x5638363134d0)\n",
      "\n",
      "QObject::moveToThread: Current thread (0x5638363134d0) is not the object's thread (0x563836740380).\n",
      "Cannot move to target thread (0x5638363134d0)\n",
      "\n",
      "QObject::moveToThread: Current thread (0x5638363134d0) is not the object's thread (0x563836740380).\n",
      "Cannot move to target thread (0x5638363134d0)\n",
      "\n",
      "QObject::moveToThread: Current thread (0x5638363134d0) is not the object's thread (0x563836740380).\n",
      "Cannot move to target thread (0x5638363134d0)\n",
      "\n",
      "QObject::moveToThread: Current thread (0x5638363134d0) is not the object's thread (0x563836740380).\n",
      "Cannot move to target thread (0x5638363134d0)\n",
      "\n",
      "QObject::moveToThread: Current thread (0x5638363134d0) is not the object's thread (0x563836740380).\n",
      "Cannot move to target thread (0x5638363134d0)\n",
      "\n",
      "QObject::moveToThread: Current thread (0x5638363134d0) is not the object's thread (0x563836740380).\n",
      "Cannot move to target thread (0x5638363134d0)\n",
      "\n",
      "QObject::moveToThread: Current thread (0x5638363134d0) is not the object's thread (0x563836740380).\n",
      "Cannot move to target thread (0x5638363134d0)\n",
      "\n",
      "QObject::moveToThread: Current thread (0x5638363134d0) is not the object's thread (0x563836740380).\n",
      "Cannot move to target thread (0x5638363134d0)\n",
      "\n",
      "QObject::moveToThread: Current thread (0x5638363134d0) is not the object's thread (0x563836740380).\n",
      "Cannot move to target thread (0x5638363134d0)\n",
      "\n",
      "QObject::moveToThread: Current thread (0x5638363134d0) is not the object's thread (0x563836740380).\n",
      "Cannot move to target thread (0x5638363134d0)\n",
      "\n",
      "QObject::moveToThread: Current thread (0x5638363134d0) is not the object's thread (0x563836740380).\n",
      "Cannot move to target thread (0x5638363134d0)\n",
      "\n",
      "QObject::moveToThread: Current thread (0x5638363134d0) is not the object's thread (0x563836740380).\n",
      "Cannot move to target thread (0x5638363134d0)\n",
      "\n",
      "QObject::moveToThread: Current thread (0x5638363134d0) is not the object's thread (0x563836740380).\n",
      "Cannot move to target thread (0x5638363134d0)\n",
      "\n",
      "QObject::moveToThread: Current thread (0x5638363134d0) is not the object's thread (0x563836740380).\n",
      "Cannot move to target thread (0x5638363134d0)\n",
      "\n",
      "QObject::moveToThread: Current thread (0x5638363134d0) is not the object's thread (0x563836740380).\n",
      "Cannot move to target thread (0x5638363134d0)\n",
      "\n",
      "QObject::moveToThread: Current thread (0x5638363134d0) is not the object's thread (0x563836740380).\n",
      "Cannot move to target thread (0x5638363134d0)\n",
      "\n",
      "QObject::moveToThread: Current thread (0x5638363134d0) is not the object's thread (0x563836740380).\n",
      "Cannot move to target thread (0x5638363134d0)\n",
      "\n",
      "QObject::moveToThread: Current thread (0x5638363134d0) is not the object's thread (0x563836740380).\n",
      "Cannot move to target thread (0x5638363134d0)\n",
      "\n",
      "QObject::moveToThread: Current thread (0x5638363134d0) is not the object's thread (0x563836740380).\n",
      "Cannot move to target thread (0x5638363134d0)\n",
      "\n",
      "QObject::moveToThread: Current thread (0x5638363134d0) is not the object's thread (0x563836740380).\n",
      "Cannot move to target thread (0x5638363134d0)\n",
      "\n",
      "QObject::moveToThread: Current thread (0x5638363134d0) is not the object's thread (0x563836740380).\n",
      "Cannot move to target thread (0x5638363134d0)\n",
      "\n",
      "QObject::moveToThread: Current thread (0x5638363134d0) is not the object's thread (0x563836740380).\n",
      "Cannot move to target thread (0x5638363134d0)\n",
      "\n",
      "QObject::moveToThread: Current thread (0x5638363134d0) is not the object's thread (0x563836740380).\n",
      "Cannot move to target thread (0x5638363134d0)\n",
      "\n",
      "QObject::moveToThread: Current thread (0x5638363134d0) is not the object's thread (0x563836740380).\n",
      "Cannot move to target thread (0x5638363134d0)\n",
      "\n",
      "QObject::moveToThread: Current thread (0x5638363134d0) is not the object's thread (0x563836740380).\n",
      "Cannot move to target thread (0x5638363134d0)\n",
      "\n",
      "QObject::moveToThread: Current thread (0x5638363134d0) is not the object's thread (0x563836740380).\n",
      "Cannot move to target thread (0x5638363134d0)\n",
      "\n",
      "QObject::moveToThread: Current thread (0x5638363134d0) is not the object's thread (0x563836740380).\n",
      "Cannot move to target thread (0x5638363134d0)\n",
      "\n",
      "QObject::moveToThread: Current thread (0x5638363134d0) is not the object's thread (0x563836740380).\n",
      "Cannot move to target thread (0x5638363134d0)\n",
      "\n",
      "QObject::moveToThread: Current thread (0x5638363134d0) is not the object's thread (0x563836740380).\n",
      "Cannot move to target thread (0x5638363134d0)\n",
      "\n",
      "QObject::moveToThread: Current thread (0x5638363134d0) is not the object's thread (0x563836740380).\n",
      "Cannot move to target thread (0x5638363134d0)\n",
      "\n",
      "QObject::moveToThread: Current thread (0x5638363134d0) is not the object's thread (0x563836740380).\n",
      "Cannot move to target thread (0x5638363134d0)\n",
      "\n",
      "QObject::moveToThread: Current thread (0x5638363134d0) is not the object's thread (0x563836740380).\n",
      "Cannot move to target thread (0x5638363134d0)\n",
      "\n",
      "QObject::moveToThread: Current thread (0x5638363134d0) is not the object's thread (0x563836740380).\n",
      "Cannot move to target thread (0x5638363134d0)\n",
      "\n",
      "QObject::moveToThread: Current thread (0x5638363134d0) is not the object's thread (0x563836740380).\n",
      "Cannot move to target thread (0x5638363134d0)\n",
      "\n",
      "QObject::moveToThread: Current thread (0x5638363134d0) is not the object's thread (0x563836740380).\n",
      "Cannot move to target thread (0x5638363134d0)\n",
      "\n",
      "QObject::moveToThread: Current thread (0x5638363134d0) is not the object's thread (0x563836740380).\n",
      "Cannot move to target thread (0x5638363134d0)\n",
      "\n",
      "QObject::moveToThread: Current thread (0x5638363134d0) is not the object's thread (0x563836740380).\n",
      "Cannot move to target thread (0x5638363134d0)\n",
      "\n",
      "QObject::moveToThread: Current thread (0x5638363134d0) is not the object's thread (0x563836740380).\n",
      "Cannot move to target thread (0x5638363134d0)\n",
      "\n",
      "QObject::moveToThread: Current thread (0x5638363134d0) is not the object's thread (0x563836740380).\n",
      "Cannot move to target thread (0x5638363134d0)\n",
      "\n",
      "QObject::moveToThread: Current thread (0x5638363134d0) is not the object's thread (0x563836740380).\n",
      "Cannot move to target thread (0x5638363134d0)\n",
      "\n",
      "QObject::moveToThread: Current thread (0x5638363134d0) is not the object's thread (0x563836740380).\n",
      "Cannot move to target thread (0x5638363134d0)\n",
      "\n",
      "QObject::moveToThread: Current thread (0x5638363134d0) is not the object's thread (0x563836740380).\n",
      "Cannot move to target thread (0x5638363134d0)\n",
      "\n",
      "QObject::moveToThread: Current thread (0x5638363134d0) is not the object's thread (0x563836740380).\n",
      "Cannot move to target thread (0x5638363134d0)\n",
      "\n",
      "QObject::moveToThread: Current thread (0x5638363134d0) is not the object's thread (0x563836740380).\n",
      "Cannot move to target thread (0x5638363134d0)\n",
      "\n",
      "QObject::moveToThread: Current thread (0x5638363134d0) is not the object's thread (0x563836740380).\n",
      "Cannot move to target thread (0x5638363134d0)\n",
      "\n",
      "QObject::moveToThread: Current thread (0x5638363134d0) is not the object's thread (0x563836740380).\n",
      "Cannot move to target thread (0x5638363134d0)\n",
      "\n",
      "QObject::moveToThread: Current thread (0x5638363134d0) is not the object's thread (0x563836740380).\n",
      "Cannot move to target thread (0x5638363134d0)\n",
      "\n"
     ]
    },
    {
     "name": "stdout",
     "output_type": "stream",
     "text": [
      "Episode:1 Score:0\n",
      "Episode:2 Score:0\n",
      "Episode:3 Score:0\n",
      "Episode:4 Score:2\n",
      "Episode:5 Score:0\n"
     ]
    }
   ],
   "source": [
    "episodes = 5\n",
    "for episode in range(1, episodes+1):\n",
    "    state = env.reset()\n",
    "    done = False\n",
    "    score = 0 \n",
    "    \n",
    "    while not done:\n",
    "        env.render()\n",
    "        action = env.action_space.sample()\n",
    "        n_state, reward, done, info = env.step(action)\n",
    "        score+=reward\n",
    "    print('Episode:{} Score:{}'.format(episode, score))\n",
    "env.close()"
   ]
  },
  {
   "cell_type": "markdown",
   "metadata": {},
   "source": []
  },
  {
   "cell_type": "markdown",
   "metadata": {},
   "source": [
    "# 3. Train an RL Model"
   ]
  },
  {
   "cell_type": "code",
   "execution_count": 20,
   "metadata": {
    "scrolled": false
   },
   "outputs": [],
   "source": [
    "from stable_baselines3.common.evaluation import evaluate_policy"
   ]
  },
  {
   "cell_type": "code",
   "execution_count": 21,
   "metadata": {
    "scrolled": false
   },
   "outputs": [],
   "source": [
    "log_path = os.path.join('Training','Logs')\n"
   ]
  },
  {
   "cell_type": "code",
   "execution_count": 22,
   "metadata": {
    "scrolled": false
   },
   "outputs": [],
   "source": [
    "from stable_baselines3.common.callbacks import EvalCallback, StopTrainingOnRewardThreshold"
   ]
  },
  {
   "cell_type": "code",
   "execution_count": 23,
   "metadata": {
    "scrolled": false
   },
   "outputs": [],
   "source": [
    "save_path = os.path.join('Training', 'Saved Models')\n",
    "log_path = os.path.join('Training', 'Logs Bias Only', 'Env 3')"
   ]
  },
  {
   "cell_type": "code",
   "execution_count": 24,
   "metadata": {
    "scrolled": false
   },
   "outputs": [
    {
     "name": "stdout",
     "output_type": "stream",
     "text": [
      "[[2, 0, 10], [1, 0, 0]]\n"
     ]
    }
   ],
   "source": [
    "from GridEnv import WindyGridworld\n",
    "env = env = WindyGridworld(\n",
    "        height=20,\n",
    "        width=11,\n",
    "        rewards=rewards,\n",
    "        wind=True,\n",
    "        allowed_actions=['L', 'R', 'C'],\n",
    "        reward_terminates_episode=False\n",
    "    )\n",
    "\n",
    "print(env.rewards)\n",
    "\n",
    "from stable_baselines3.common.atari_wrappers import WarpFrame\n",
    "\n",
    "\n"
   ]
  },
  {
   "cell_type": "code",
   "execution_count": 25,
   "metadata": {
    "scrolled": false
   },
   "outputs": [],
   "source": [
    "stop_callback = StopTrainingOnRewardThreshold(reward_threshold=3, verbose=1)\n",
    "eval_callback = EvalCallback(env, \n",
    "                             callback_on_new_best=stop_callback, \n",
    "                             eval_freq=10000, \n",
    "                             best_model_save_path=save_path, \n",
    "                             verbose=1)"
   ]
  },
  {
   "cell_type": "code",
   "execution_count": 26,
   "metadata": {
    "scrolled": false
   },
   "outputs": [
    {
     "ename": "TypeError",
     "evalue": "__init__() got an unexpected keyword argument 'opt_val'",
     "output_type": "error",
     "traceback": [
      "\u001b[0;31m---------------------------------------------------------------------------\u001b[0m",
      "\u001b[0;31mTypeError\u001b[0m                                 Traceback (most recent call last)",
      "Input \u001b[0;32mIn [26]\u001b[0m, in \u001b[0;36m<cell line: 3>\u001b[0;34m()\u001b[0m\n\u001b[1;32m      1\u001b[0m \u001b[38;5;66;03m# try 0.2 exploration period\u001b[39;00m\n\u001b[1;32m      2\u001b[0m opt_val \u001b[38;5;241m=\u001b[39m env\u001b[38;5;241m.\u001b[39mopt_val\n\u001b[0;32m----> 3\u001b[0m model \u001b[38;5;241m=\u001b[39m \u001b[43mDQN\u001b[49m\u001b[43m(\u001b[49m\u001b[38;5;124;43m'\u001b[39;49m\u001b[38;5;124;43mCnnPolicy\u001b[39;49m\u001b[38;5;124;43m'\u001b[39;49m\u001b[43m,\u001b[49m\u001b[43m \u001b[49m\u001b[43menv\u001b[49m\u001b[43m,\u001b[49m\u001b[43m \u001b[49m\u001b[43mopt_val\u001b[49m\u001b[38;5;241;43m=\u001b[39;49m\u001b[43mopt_val\u001b[49m\u001b[43m,\u001b[49m\u001b[43m \u001b[49m\u001b[43mexploration_fraction\u001b[49m\u001b[38;5;241;43m=\u001b[39;49m\u001b[38;5;241;43m0.6\u001b[39;49m\u001b[43m,\u001b[49m\n\u001b[1;32m      4\u001b[0m \u001b[43m  \u001b[49m\u001b[43mexploration_final_eps\u001b[49m\u001b[38;5;241;43m=\u001b[39;49m\u001b[38;5;241;43m0.1\u001b[39;49m\u001b[43m,\u001b[49m\u001b[43mlearning_starts\u001b[49m\u001b[38;5;241;43m=\u001b[39;49m\u001b[38;5;241;43m100000\u001b[39;49m\u001b[43m,\u001b[49m\u001b[43m \u001b[49m\u001b[43mverbose\u001b[49m\u001b[43m \u001b[49m\u001b[38;5;241;43m=\u001b[39;49m\u001b[43m \u001b[49m\u001b[38;5;241;43m1\u001b[39;49m\u001b[43m,\u001b[49m\u001b[43m \u001b[49m\u001b[43mbuffer_size\u001b[49m\u001b[43m \u001b[49m\u001b[38;5;241;43m=\u001b[39;49m\u001b[43m \u001b[49m\u001b[38;5;241;43m50000\u001b[39;49m\u001b[43m,\u001b[49m\u001b[43mtarget_update_interval\u001b[49m\u001b[38;5;241;43m=\u001b[39;49m\u001b[38;5;241;43m1000\u001b[39;49m\u001b[43m,\u001b[49m\u001b[43m \u001b[49m\u001b[43mtensorboard_log\u001b[49m\u001b[38;5;241;43m=\u001b[39;49m\u001b[43mlog_path\u001b[49m\u001b[43m)\u001b[49m\n",
      "\u001b[0;31mTypeError\u001b[0m: __init__() got an unexpected keyword argument 'opt_val'"
     ]
    }
   ],
   "source": [
    "# try 0.2 exploration period\n",
    "opt_val = env.opt_val\n",
    "model = DQN('CnnPolicy', env, opt_val=opt_val, exploration_fraction=0.6,\n",
    "  exploration_final_eps=0.1,learning_starts=100000, verbose = 1, buffer_size = 50000,target_update_interval=1000, tensorboard_log=log_path)"
   ]
  },
  {
   "cell_type": "code",
   "execution_count": null,
   "metadata": {
    "scrolled": false
   },
   "outputs": [],
   "source": [
    "model.learn(total_timesteps=3000000,callback=eval_callback, tb_log_name='Env3_Baseline_0.8')"
   ]
  },
  {
   "cell_type": "code",
   "execution_count": null,
   "metadata": {
    "scrolled": false
   },
   "outputs": [],
   "source": [
    "save_path = os.path.join('Training', 'Saved Models', 'Env3_Baseline')\n",
    "#load_path = os.path.join('Training', 'Saved Models', 'DQN_model_GridWorld')\n",
    "model.save(save_path)"
   ]
  },
  {
   "cell_type": "code",
   "execution_count": null,
   "metadata": {
    "scrolled": true
   },
   "outputs": [],
   "source": [
    "evaluate_policy(model, env, n_eval_episodes=30, render=True)"
   ]
  },
  {
   "cell_type": "code",
   "execution_count": null,
   "metadata": {
    "scrolled": false
   },
   "outputs": [],
   "source": [
    "env.close()"
   ]
  },
  {
   "cell_type": "code",
   "execution_count": null,
   "metadata": {
    "scrolled": false
   },
   "outputs": [],
   "source": []
  },
  {
   "cell_type": "code",
   "execution_count": null,
   "metadata": {},
   "outputs": [],
   "source": [
    "\n"
   ]
  },
  {
   "cell_type": "code",
   "execution_count": null,
   "metadata": {},
   "outputs": [],
   "source": []
  }
 ],
 "metadata": {
  "kernelspec": {
   "display_name": "Python 3 (ipykernel)",
   "language": "python",
   "name": "python3"
  },
  "language_info": {
   "codemirror_mode": {
    "name": "ipython",
    "version": 3
   },
   "file_extension": ".py",
   "mimetype": "text/x-python",
   "name": "python",
   "nbconvert_exporter": "python",
   "pygments_lexer": "ipython3",
   "version": "3.9.12"
  }
 },
 "nbformat": 4,
 "nbformat_minor": 2
}
